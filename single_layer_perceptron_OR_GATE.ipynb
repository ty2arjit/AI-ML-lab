{
 "cells": [
  {
   "cell_type": "code",
   "execution_count": 1,
   "metadata": {},
   "outputs": [],
   "source": [
    "import numpy as np"
   ]
  },
  {
   "cell_type": "code",
   "execution_count": 2,
   "metadata": {},
   "outputs": [
    {
     "name": "stdout",
     "output_type": "stream",
     "text": [
      "Testing Perceptron:\n",
      "Input: [0, 0] , Predicted Output: 0\n",
      "Input: [0, 1] , Predicted Output: 1\n",
      "Input: [1, 0] , Predicted Output: 1\n",
      "Input: [1, 1] , Predicted Output: 1\n"
     ]
    }
   ],
   "source": [
    "class SLP:\n",
    "    def __init__(self,input_size,learning_rate=0.1,epochs=10):\n",
    "        self.weights=np.zeros(input_size+1)\n",
    "        self.learning_rate=learning_rate\n",
    "        self.epochs=epochs\n",
    "    \n",
    "    def activation(self,x):\n",
    "        return 1 if x>=0 else 0\n",
    "    \n",
    "    def predict(self,input):\n",
    "        summation=np.dot(input,self.weights[1:])+self.weights[0]\n",
    "        return self.activation(summation)\n",
    "    \n",
    "    def train(self,x,y):\n",
    "        for i in range(self.epochs):\n",
    "            for input,label in zip(x,y):\n",
    "                prediction=self.predict(input)\n",
    "                error=label-prediction\n",
    "                self.weights[1:]+=self.learning_rate*error*np.array(input)\n",
    "                self.weights[0]+=self.learning_rate*error\n",
    "    \n",
    "x=[[0,0],[0,1],[1,0],[1,1]]\n",
    "y=[0,1,1,1]\n",
    "#x=np.array(x)\n",
    "perceptron=SLP(input_size=2,learning_rate=0.5,epochs=20)\n",
    "perceptron.train(x,y)\n",
    "print(\"Testing Perceptron:\")\n",
    "for input in x:\n",
    "    print(f\"Input: {input} , Predicted Output: {perceptron.predict(input)}\")\n",
    "    "
   ]
  }
 ],
 "metadata": {
  "kernelspec": {
   "display_name": "base",
   "language": "python",
   "name": "python3"
  },
  "language_info": {
   "codemirror_mode": {
    "name": "ipython",
    "version": 3
   },
   "file_extension": ".py",
   "mimetype": "text/x-python",
   "name": "python",
   "nbconvert_exporter": "python",
   "pygments_lexer": "ipython3",
   "version": "3.12.7"
  }
 },
 "nbformat": 4,
 "nbformat_minor": 2
}
