{
 "cells": [
  {
   "cell_type": "code",
   "execution_count": 7,
   "metadata": {},
   "outputs": [
    {
     "data": {
      "text/plain": [
       "array([[0, 'Braund, Mr. Owen Harris', 22.0, 7.25],\n",
       "       [1, 'Cumings, Mrs. John Bradley (Florence Briggs Thayer)', 38.0,\n",
       "        71.2833],\n",
       "       [1, 'Heikkinen, Miss. Laina', 26.0, 7.925],\n",
       "       ...,\n",
       "       [0, 'Johnston, Miss. Catherine Helen \"Carrie\"', nan, 23.45],\n",
       "       [1, 'Behr, Mr. Karl Howell', 26.0, 30.0],\n",
       "       [0, 'Dooley, Mr. Patrick', 32.0, 7.75]], dtype=object)"
      ]
     },
     "execution_count": 7,
     "metadata": {},
     "output_type": "execute_result"
    }
   ],
   "source": [
    "import numpy as np \n",
    "import pandas as pd\n",
    "from collections import Counter\n",
    "from sklearn.datasets import load_iris \n",
    "from sklearn.model_selection import train_test_split\n",
    "from sklearn.metrics import accuracy_score,classification_report,confusion_matrix\n",
    "df=pd.read_csv(\"Titanic.csv\",usecols=[\"Survived\",\"Name\",\"Age\",\"Fare\"]).to_numpy()\n",
    "df"
   ]
  },
  {
   "cell_type": "code",
   "execution_count": 9,
   "metadata": {},
   "outputs": [
    {
     "name": "stdout",
     "output_type": "stream",
     "text": [
      "Train dataframe:  [[0 'Braund, Mr. Owen Harris' 22.0 7.25]\n",
      " [1 'Cumings, Mrs. John Bradley (Florence Briggs Thayer)' 38.0 71.2833]\n",
      " [1 'Heikkinen, Miss. Laina' 26.0 7.925]\n",
      " ...\n",
      " [0 'Henry, Miss. Delia' nan 7.75]\n",
      " [0 'Reeves, Mr. David' 36.0 10.5]\n",
      " [0 'Panula, Mr. Ernesti Arvid' 16.0 39.6875]]\n",
      "Test dataframe:  [[1 'Persson, Mr. Ernst Ulrik' 25.0 7.775]\n",
      " [1 'Graham, Mrs. William Thompson (Edith Junkins)' 58.0 153.4625]\n",
      " [1 'Bissette, Miss. Amelia' 35.0 135.6333]\n",
      " ...\n",
      " [0 'Johnston, Miss. Catherine Helen \"Carrie\"' nan 23.45]\n",
      " [1 'Behr, Mr. Karl Howell' 26.0 30.0]\n",
      " [0 'Dooley, Mr. Patrick' 32.0 7.75]]\n"
     ]
    }
   ],
   "source": [
    "ratio=0.3\n",
    "rows=df.shape[0]\n",
    "train_size=int(rows*ratio)\n",
    "train=df[0:train_size]\n",
    "test=df[train_size:]\n",
    "print(\"Train dataframe: \",train)\n",
    "print(\"Test dataframe: \",test)"
   ]
  },
  {
   "cell_type": "code",
   "execution_count": null,
   "metadata": {},
   "outputs": [],
   "source": [
    "def dist(x_train,test_point):\n",
    "    d=[]\n",
    "    for i in x_train:\n",
    "        euc_d=np.sqrt(np.sum((test_point-i)**2)) #euclidean distance\n",
    "        d.append(euc_d)\n",
    "    return d"
   ]
  },
  {
   "cell_type": "code",
   "execution_count": null,
   "metadata": {},
   "outputs": [],
   "source": [
    "def predict_single(x_train,y_train,test_point,k):\n",
    "    d=dist(x_train,test_point) #get distances\n",
    "    sorted_ind=np.argsort(d)\n",
    "    k_nearest=[]\n",
    "    for i in range(k):\n",
    "        k_nearest.append(y_train[sorted_ind[i]])\n",
    "    label_cnt=Counter(k_nearest)\n",
    "    most_common_label=label_cnt.most_common(1)[0][0]\n",
    "    return most_common_label"
   ]
  },
  {
   "cell_type": "code",
   "execution_count": null,
   "metadata": {},
   "outputs": [],
   "source": [
    "def predict(x_train,y_train,x_test,k):\n",
    "    predi=[]\n",
    "    for i in x_test:\n",
    "        label=predict_single(x_train,y_train,i,k)\n",
    "        predi.append(label)\n",
    "    return predi"
   ]
  },
  {
   "cell_type": "code",
   "execution_count": null,
   "metadata": {},
   "outputs": [],
   "source": [
    "y=df[\"Survived\"]\n",
    "x=df[]"
   ]
  }
 ],
 "metadata": {
  "kernelspec": {
   "display_name": "base",
   "language": "python",
   "name": "python3"
  },
  "language_info": {
   "codemirror_mode": {
    "name": "ipython",
    "version": 3
   },
   "file_extension": ".py",
   "mimetype": "text/x-python",
   "name": "python",
   "nbconvert_exporter": "python",
   "pygments_lexer": "ipython3",
   "version": "3.12.7"
  }
 },
 "nbformat": 4,
 "nbformat_minor": 2
}
