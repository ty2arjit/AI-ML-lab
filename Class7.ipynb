{
 "cells": [
  {
   "cell_type": "code",
   "execution_count": 7,
   "metadata": {},
   "outputs": [],
   "source": [
    "import numpy as np\n",
    "import pandas as pd"
   ]
  },
  {
   "cell_type": "code",
   "execution_count": 8,
   "metadata": {},
   "outputs": [
    {
     "data": {
      "text/plain": [
       "array([[ 1.  ,  1.  ,  0.08,  0.72,  1.  ],\n",
       "       [ 2.  ,  1.  ,  0.1 ,  1.  ,  1.  ],\n",
       "       [ 3.  ,  1.  ,  0.26,  0.58,  1.  ],\n",
       "       [ 4.  ,  1.  ,  0.35,  0.95,  0.  ],\n",
       "       [ 5.  ,  1.  ,  0.45,  0.15,  1.  ],\n",
       "       [ 6.  ,  1.  ,  0.6 ,  0.3 ,  1.  ],\n",
       "       [ 7.  ,  1.  ,  0.7 ,  0.65,  0.  ],\n",
       "       [ 8.  ,  1.  ,  0.92,  0.45,  0.  ],\n",
       "       [ 9.  ,  1.  ,  0.42,  0.85,  0.  ],\n",
       "       [10.  ,  1.  ,  0.65,  0.55,  0.  ],\n",
       "       [11.  ,  1.  ,  0.2 ,  0.3 ,  1.  ],\n",
       "       [12.  ,  1.  ,  0.2 ,  1.  ,  0.  ],\n",
       "       [13.  ,  1.  ,  0.85,  0.1 ,  1.  ]])"
      ]
     },
     "execution_count": 8,
     "metadata": {},
     "output_type": "execute_result"
    }
   ],
   "source": [
    "df=pd.read_csv(\"Single Layer Perceptron Dataset.csv\").to_numpy()\n",
    "df"
   ]
  },
  {
   "cell_type": "code",
   "execution_count": 17,
   "metadata": {},
   "outputs": [
    {
     "name": "stdout",
     "output_type": "stream",
     "text": [
      "Training : [[1.   1.   0.08 0.72 1.  ]\n",
      " [2.   1.   0.1  1.   1.  ]\n",
      " [3.   1.   0.26 0.58 1.  ]\n",
      " [4.   1.   0.35 0.95 0.  ]\n",
      " [5.   1.   0.45 0.15 1.  ]\n",
      " [6.   1.   0.6  0.3  1.  ]\n",
      " [7.   1.   0.7  0.65 0.  ]\n",
      " [8.   1.   0.92 0.45 0.  ]]\n",
      "Testing : [[ 9.    1.    0.42  0.85  0.  ]\n",
      " [10.    1.    0.65  0.55  0.  ]\n",
      " [11.    1.    0.2   0.3   1.  ]\n",
      " [12.    1.    0.2   1.    0.  ]\n",
      " [13.    1.    0.85  0.1   1.  ]]\n"
     ]
    }
   ],
   "source": [
    "ratio=0.69\n",
    "rows=df.shape[0]\n",
    "train_size=int(rows*ratio)\n",
    "train=df[0:train_size]\n",
    "test=df[train_size:]\n",
    "print(\"Training :\",train)\n",
    "print(\"Testing :\",test)"
   ]
  },
  {
   "cell_type": "code",
   "execution_count": 20,
   "metadata": {},
   "outputs": [],
   "source": [
    "def activation(num):\n",
    "    if(num>=0):\n",
    "        return 1\n",
    "    return 0"
   ]
  },
  {
   "cell_type": "code",
   "execution_count": 19,
   "metadata": {},
   "outputs": [],
   "source": [
    "def predict(input,weights):\n",
    "    sum=np.dot(input,weights[1:])+weights[0]\n",
    "    return activation(sum)"
   ]
  },
  {
   "cell_type": "code",
   "execution_count": 18,
   "metadata": {},
   "outputs": [],
   "source": [
    "def train(X,y,weights,epochs=10,lrate=0.1):\n",
    "    for i in range(epochs):\n",
    "        for inputs,label in zip(X,y):\n",
    "            prediction=predict(inputs,weights)\n",
    "            error=label-prediction\n",
    "            weights[1:]+=lrate*error*inputs\n",
    "            weights[0]+=lrate*error"
   ]
  },
  {
   "cell_type": "code",
   "execution_count": 25,
   "metadata": {},
   "outputs": [
    {
     "data": {
      "text/plain": [
       "array([[1],\n",
       "       [1],\n",
       "       [1],\n",
       "       [0],\n",
       "       [1],\n",
       "       [1],\n",
       "       [0],\n",
       "       [0],\n",
       "       [0],\n",
       "       [0],\n",
       "       [1],\n",
       "       [0],\n",
       "       [1]])"
      ]
     },
     "execution_count": 25,
     "metadata": {},
     "output_type": "execute_result"
    }
   ],
   "source": [
    "weights=np.zeros(train_size+1)\n",
    "X=train\n",
    "y=pd.read_csv(\"Single Layer Perceptron Dataset.csv\",usecols=[\"Class_Label\"]).to_numpy()\n",
    "y\n"
   ]
  }
 ],
 "metadata": {
  "kernelspec": {
   "display_name": "base",
   "language": "python",
   "name": "python3"
  },
  "language_info": {
   "codemirror_mode": {
    "name": "ipython",
    "version": 3
   },
   "file_extension": ".py",
   "mimetype": "text/x-python",
   "name": "python",
   "nbconvert_exporter": "python",
   "pygments_lexer": "ipython3",
   "version": "3.12.7"
  }
 },
 "nbformat": 4,
 "nbformat_minor": 2
}
