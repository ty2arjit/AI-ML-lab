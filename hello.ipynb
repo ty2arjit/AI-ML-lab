{
 "cells": [
  {
   "cell_type": "code",
   "execution_count": 17,
   "metadata": {},
   "outputs": [
    {
     "name": "stdout",
     "output_type": "stream",
     "text": [
      "3\n"
     ]
    }
   ],
   "source": [
    "print(1+2)"
   ]
  },
  {
   "cell_type": "code",
   "execution_count": 18,
   "metadata": {},
   "outputs": [
    {
     "name": "stdout",
     "output_type": "stream",
     "text": [
      "20.5\n",
      "27.0\n",
      "36.5\n",
      "21.5\n",
      "28.0\n",
      "31.0\n",
      "14.5\n",
      "12.5\n",
      "29.0\n",
      "36.0\n",
      "31.5\n",
      "19.0\n",
      "29.5\n",
      "1.0\n",
      "20.5\n",
      "36.5\n",
      "4.5\n",
      "30.5\n",
      "23.0\n",
      "11.5\n",
      "32.5\n",
      "37.0\n",
      "30.0\n",
      "27.0\n",
      "6.0\n",
      "47.0\n",
      "21.5\n",
      "31.0\n",
      "12.5\n",
      "44.0\n",
      "20.0\n",
      "26.5\n",
      "40.5\n",
      "9.5\n",
      "27.5\n",
      "24.5\n",
      "9.0\n",
      "12.0\n",
      "26.5\n",
      "33.5\n",
      "24.0\n",
      "34.0\n",
      "27.5\n",
      "34.0\n",
      "29.0\n",
      "20.5\n",
      "32.5\n",
      "37.0\n",
      "23.0\n",
      "20.0\n",
      "25.5\n"
     ]
    },
    {
     "data": {
      "image/png": "[encoded data removed]",
      "text/plain": [
       "<Figure size 640x480 with 1 Axes>"
      ]
     },
     "metadata": {},
     "output_type": "display_data"
    }
   ],
   "source": [
    "import matplotlib.pyplot as plp\n",
    "import numpy as np\n",
    "import pandas as pan\n",
    "x=[]\n",
    "for i in range(51):\n",
    "    temp=np.random.randint(50)\n",
    "    x.append(temp)\n",
    "y=[]\n",
    "for i in range(51):\n",
    "    temp=np.random.randint(50)\n",
    "    y.append(temp)\n",
    "for i in range(51):\n",
    "    print((x[i]+y[i])/2)\n",
    "plp.scatter(x,y,color=\"red\")\n",
    "plp.legend(\"x\")\n",
    "plp.show()"
   ]
  },
  {
   "cell_type": "code",
   "execution_count": 19,
   "metadata": {},
   "outputs": [
    {
     "name": "stdout",
     "output_type": "stream",
     "text": [
      "[[0.08742099 0.83460233 0.71679306]\n",
      " [0.53311442 0.90198414 0.89263109]\n",
      " [0.82474748 0.51291717 0.19775773]]\n",
      "0.16478207551037388\n"
     ]
    }
   ],
   "source": [
    "x=np.random.rand(3,3)\n",
    "det=np.linalg.det(x)\n",
    "print(x)\n",
    "print(det)"
   ]
  },
  {
   "cell_type": "code",
   "execution_count": 20,
   "metadata": {},
   "outputs": [
    {
     "name": "stdout",
     "output_type": "stream",
     "text": [
      "  Product  Price  Quantity\n",
      "0       A     50        10\n",
      "1       B     30         5\n",
      "2       C     40         8\n"
     ]
    }
   ],
   "source": [
    "import pandas as pan\n",
    "data={\"Product\":['A','B','C'],\"Price\":[50,30,40],\"Quantity\":[10,5,8]}\n",
    "table=pan.DataFrame(data)\n",
    "print(table)"
   ]
  },
  {
   "cell_type": "code",
   "execution_count": 21,
   "metadata": {},
   "outputs": [
    {
     "name": "stdout",
     "output_type": "stream",
     "text": [
      "  Product  Price  Quantity\n",
      "0       A     50        10\n",
      "1       B     30         5\n",
      "2       C     40         8\n",
      "Revenue of a is:  500\n"
     ]
    }
   ],
   "source": [
    "import pandas as pan\n",
    "data={\"Product\":['A','B','C'],\"Price\":[50,30,40],\"Quantity\":[10,5,8]}\n",
    "table=pan.DataFrame(data)\n",
    "print(table)\n",
    "print(\"Revenue of a is: \",data[\"Price\"][0]*data[\"Quantity\"][0])"
   ]
  },
  {
   "cell_type": "code",
   "execution_count": 22,
   "metadata": {},
   "outputs": [
    {
     "name": "stdout",
     "output_type": "stream",
     "text": [
      "0.06428279882471662\n"
     ]
    }
   ],
   "source": [
    "import numpy as np\n",
    "x=np.random.rand(3,3)\n",
    "det=np.linalg.det(x)\n",
    "print(det)"
   ]
  },
  {
   "cell_type": "code",
   "execution_count": null,
   "metadata": {},
   "outputs": [],
   "source": []
  }
 ],
 "metadata": {
  "kernelspec": {
   "display_name": "base",
   "language": "python",
   "name": "python3"
  },
  "language_info": {
   "codemirror_mode": {
    "name": "ipython",
    "version": 3
   },
   "file_extension": ".py",
   "mimetype": "text/x-python",
   "name": "python",
   "nbconvert_exporter": "python",
   "pygments_lexer": "ipython3",
   "version": "3.12.7"
  }
 },
 "nbformat": 4,
 "nbformat_minor": 2
}
