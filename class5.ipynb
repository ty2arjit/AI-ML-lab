{
 "cells": [
  {
   "cell_type": "code",
   "execution_count": 6,
   "metadata": {},
   "outputs": [
    {
     "name": "stdout",
     "output_type": "stream",
     "text": [
      "(130, 13)\n",
      "(130,)\n"
     ]
    }
   ],
   "source": [
    "import pandas as pd\n",
    "import numpy as np\n",
    "import sklearn\n",
    "from sklearn import datasets\n",
    "Wine_data = sklearn.datasets.load_wine()\n",
    "x= Wine_data.data[:130]\n",
    "y= Wine_data.target[:130]\n",
    "print(x.shape)\n",
    "print(y.shape)"
   ]
  },
  {
   "cell_type": "code",
   "execution_count": 5,
   "metadata": {},
   "outputs": [
    {
     "data": {
      "text/plain": [
       "array([5.34162315e-01, 1.00839149e+00, 3.13237790e-01, 3.32609682e+00,\n",
       "       1.66350967e+01, 5.41506894e-01, 7.00713412e-01, 1.23085215e-01,\n",
       "       5.97812849e-01, 9.18392570e-01, 2.01502608e-01, 4.93064093e-01,\n",
       "       1.56100173e+02])"
      ]
     },
     "execution_count": 5,
     "metadata": {},
     "output_type": "execute_result"
    }
   ],
   "source": [
    "meanzero=np.mean(x[:59], axis=0)\n",
    "meanzero\n",
    "sigmazero=np.std(x[:59], axis=0)\n",
    "sigmazero\n",
    "meanone=np.mean(x[59:], axis=0)\n",
    "meanone\n",
    "sigmaone=np.std(x[59:],axis=0)\n",
    "sigmaone"
   ]
  },
  {
   "cell_type": "code",
   "execution_count": 7,
   "metadata": {},
   "outputs": [],
   "source": [
    "def gaussion(w, mean, sigma):\n",
    "    return (1 / (np.sqrt(2 * np.pi) * sigma)) * (np.exp(-(((w - mean) * 2) / (2 * sigma * 2))))"
   ]
  }
 ],
 "metadata": {
  "kernelspec": {
   "display_name": "base",
   "language": "python",
   "name": "python3"
  },
  "language_info": {
   "codemirror_mode": {
    "name": "ipython",
    "version": 3
   },
   "file_extension": ".py",
   "mimetype": "text/x-python",
   "name": "python",
   "nbconvert_exporter": "python",
   "pygments_lexer": "ipython3",
   "version": "3.12.7"
  }
 },
 "nbformat": 4,
 "nbformat_minor": 2
}
